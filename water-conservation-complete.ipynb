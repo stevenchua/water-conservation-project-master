{
 "cells": [
  {
   "cell_type": "markdown",
   "metadata": {
    "nbpresent": {
     "id": "14d2ae88-3fc9-47b6-8087-ccd2532a440f"
    }
   },
   "source": [
    "# Water Conservation Project\n",
    "Group: Steven Chua, Yvonne Radsmikham, Stefan Thoss\n",
    "\n",
    "This notebook uses Python 3.5."
   ]
  },
  {
   "cell_type": "code",
   "execution_count": 1,
   "metadata": {
    "collapsed": false,
    "nbpresent": {
     "id": "4b9da44d-6ee1-47f8-b0dc-291ea80b0db1"
    }
   },
   "outputs": [],
   "source": [
    "# Import Python libraries\n",
    "import pandas as pd\n",
    "import numpy as np\n",
    "import seaborn as sns\n",
    "from sklearn.naive_bayes import GaussianNB\n",
    "from sklearn.metrics import f1_score, accuracy_score, recall_score, precision_score\n",
    "%matplotlib inline"
   ]
  },
  {
   "cell_type": "markdown",
   "metadata": {
    "nbpresent": {
     "id": "6a028963-4a9b-47e1-9c5e-89bba4cc8175"
    }
   },
   "source": [
    "## Data Loading & Cleaning"
   ]
  },
  {
   "cell_type": "code",
   "execution_count": 2,
   "metadata": {
    "collapsed": false,
    "nbpresent": {
     "id": "bebf5e8f-d7b3-4ee3-a5f2-f45575a7d823"
    }
   },
   "outputs": [
    {
     "data": {
      "text/plain": [
       "Index(['Supplier Name', 'Hydrologic Region',\n",
       "       'State-mandated Conservation Standard - Previous (3/1/2016)',\n",
       "       'State-mandated Conservation Standard - Current (Effective 6/1/2016)',\n",
       "       'Did Supplier Self-certify?',\n",
       "       'Enforceable Cumulative Percent Savings (as compared to 2013) - June 2015-Aug 2016',\n",
       "       'June 2016 to Aug 2016 Self-certified?',\n",
       "       'Applicable Cumulative Savings by Supplier (as compared to 2013)',\n",
       "       'Missed Conservation Standard By', 'Order Status',\n",
       "       'Monthly Savings (as compared to 2013) - Aug 2015',\n",
       "       'Monthly Savings (as compared to 2013) - Aug 2016',\n",
       "       'Estimated Aug 2016 Monthly R-GPCD', 'Total Population Served'],\n",
       "      dtype='object')"
      ]
     },
     "execution_count": 2,
     "metadata": {},
     "output_type": "execute_result"
    }
   ],
   "source": [
    "# Load the dataset for supplier compliance and print the list of columns\n",
    "# Data source: https://www.kaggle.com/calepa/water-conservation-supplier-compliance\n",
    "sc = pd.read_csv('supplier_compliance.csv', skipinitialspace=True)\n",
    "sc.columns"
   ]
  },
  {
   "cell_type": "code",
   "execution_count": 3,
   "metadata": {
    "collapsed": false,
    "nbpresent": {
     "id": "b7569935-4c27-4971-ad22-f7a2daf74933"
    }
   },
   "outputs": [
    {
     "data": {
      "text/plain": [
       "Supplier Name                                                                         object\n",
       "Hydrologic Region                                                                     object\n",
       "State-mandated Conservation Standard - Previous (3/1/2016)                           float64\n",
       "State-mandated Conservation Standard - Current (Effective 6/1/2016)                  float64\n",
       "Did Supplier Self-certify?                                                            object\n",
       "Enforceable Cumulative Percent Savings (as compared to 2013) - June 2015-Aug 2016    float64\n",
       "June 2016 to Aug 2016 Self-certified?                                                float64\n",
       "Applicable Cumulative Savings by Supplier (as compared to 2013)                      float64\n",
       "Missed Conservation Standard By                                                      float64\n",
       "Order Status                                                                          object\n",
       "Monthly Savings (as compared to 2013) - Aug 2015                                     float64\n",
       "Monthly Savings (as compared to 2013) - Aug 2016                                     float64\n",
       "Estimated Aug 2016 Monthly R-GPCD                                                    float64\n",
       "Total Population Served                                                                int64\n",
       "dtype: object"
      ]
     },
     "execution_count": 3,
     "metadata": {},
     "output_type": "execute_result"
    }
   ],
   "source": [
    "# Convert the string columns which contain percentage values to float columns and\n",
    "# print the data types of all columns\n",
    "sc.iloc[:,[2,3,5,6,7,8,10,11]] = sc.iloc[:,[2,3,5,6,7,8,10,11]].replace('%','',regex=True).apply(pd.to_numeric)/100\n",
    "sc.iloc[:,13] = sc.iloc[:,13].replace(',','',regex=True).apply(pd.to_numeric)\n",
    "sc.dtypes"
   ]
  },
  {
   "cell_type": "code",
   "execution_count": 4,
   "metadata": {
    "collapsed": false,
    "nbpresent": {
     "id": "48ff6f0c-6039-4bd0-9b7f-063f620bffb1"
    }
   },
   "outputs": [
    {
     "data": {
      "text/html": [
       "<div>\n",
       "<table border=\"1\" class=\"dataframe\">\n",
       "  <thead>\n",
       "    <tr style=\"text-align: right;\">\n",
       "      <th></th>\n",
       "      <th>Supplier Name</th>\n",
       "      <th>Hydrologic Region</th>\n",
       "      <th>State-mandated Conservation Standard - Previous (3/1/2016)</th>\n",
       "      <th>State-mandated Conservation Standard - Current (Effective 6/1/2016)</th>\n",
       "      <th>Did Supplier Self-certify?</th>\n",
       "      <th>Enforceable Cumulative Percent Savings (as compared to 2013) - June 2015-Aug 2016</th>\n",
       "      <th>June 2016 to Aug 2016 Self-certified?</th>\n",
       "      <th>Applicable Cumulative Savings by Supplier (as compared to 2013)</th>\n",
       "      <th>Missed Conservation Standard By</th>\n",
       "      <th>Order Status</th>\n",
       "      <th>Monthly Savings (as compared to 2013) - Aug 2015</th>\n",
       "      <th>Monthly Savings (as compared to 2013) - Aug 2016</th>\n",
       "      <th>Estimated Aug 2016 Monthly R-GPCD</th>\n",
       "      <th>Total Population Served</th>\n",
       "    </tr>\n",
       "  </thead>\n",
       "  <tbody>\n",
       "    <tr>\n",
       "      <th>0</th>\n",
       "      <td>California City  City of</td>\n",
       "      <td>South Lahontan</td>\n",
       "      <td>0.28</td>\n",
       "      <td>0.28</td>\n",
       "      <td>No</td>\n",
       "      <td>0.131</td>\n",
       "      <td>0.180</td>\n",
       "      <td>0.131</td>\n",
       "      <td>0.149</td>\n",
       "      <td>C</td>\n",
       "      <td>0.168</td>\n",
       "      <td>0.205</td>\n",
       "      <td>148.5</td>\n",
       "      <td>14120</td>\n",
       "    </tr>\n",
       "    <tr>\n",
       "      <th>1</th>\n",
       "      <td>Yucaipa Valley Water District</td>\n",
       "      <td>South Coast</td>\n",
       "      <td>0.34</td>\n",
       "      <td>0.20</td>\n",
       "      <td>Yes</td>\n",
       "      <td>0.183</td>\n",
       "      <td>0.071</td>\n",
       "      <td>0.071</td>\n",
       "      <td>0.129</td>\n",
       "      <td>NaN</td>\n",
       "      <td>0.264</td>\n",
       "      <td>0.119</td>\n",
       "      <td>260.0</td>\n",
       "      <td>45018</td>\n",
       "    </tr>\n",
       "    <tr>\n",
       "      <th>2</th>\n",
       "      <td>Sanger  City of</td>\n",
       "      <td>Tulare Lake</td>\n",
       "      <td>0.26</td>\n",
       "      <td>0.26</td>\n",
       "      <td>No</td>\n",
       "      <td>0.173</td>\n",
       "      <td>0.124</td>\n",
       "      <td>0.173</td>\n",
       "      <td>0.087</td>\n",
       "      <td>NaN</td>\n",
       "      <td>0.380</td>\n",
       "      <td>0.172</td>\n",
       "      <td>181.1</td>\n",
       "      <td>25664</td>\n",
       "    </tr>\n",
       "    <tr>\n",
       "      <th>3</th>\n",
       "      <td>Adelanto City of</td>\n",
       "      <td>South Lahontan</td>\n",
       "      <td>0.16</td>\n",
       "      <td>0.16</td>\n",
       "      <td>No</td>\n",
       "      <td>0.093</td>\n",
       "      <td>-0.103</td>\n",
       "      <td>0.093</td>\n",
       "      <td>0.067</td>\n",
       "      <td>C</td>\n",
       "      <td>0.205</td>\n",
       "      <td>-0.306</td>\n",
       "      <td>125.5</td>\n",
       "      <td>29023</td>\n",
       "    </tr>\n",
       "    <tr>\n",
       "      <th>4</th>\n",
       "      <td>Red Bluff  City of</td>\n",
       "      <td>Sacramento River</td>\n",
       "      <td>0.33</td>\n",
       "      <td>0.33</td>\n",
       "      <td>No</td>\n",
       "      <td>0.278</td>\n",
       "      <td>0.195</td>\n",
       "      <td>0.278</td>\n",
       "      <td>0.052</td>\n",
       "      <td>NaN</td>\n",
       "      <td>0.424</td>\n",
       "      <td>0.308</td>\n",
       "      <td>202.9</td>\n",
       "      <td>14076</td>\n",
       "    </tr>\n",
       "  </tbody>\n",
       "</table>\n",
       "</div>"
      ],
      "text/plain": [
       "                   Supplier Name Hydrologic Region  \\\n",
       "0       California City  City of    South Lahontan   \n",
       "1  Yucaipa Valley Water District       South Coast   \n",
       "2                Sanger  City of       Tulare Lake   \n",
       "3               Adelanto City of    South Lahontan   \n",
       "4             Red Bluff  City of  Sacramento River   \n",
       "\n",
       "   State-mandated Conservation Standard - Previous (3/1/2016)  \\\n",
       "0                                               0.28            \n",
       "1                                               0.34            \n",
       "2                                               0.26            \n",
       "3                                               0.16            \n",
       "4                                               0.33            \n",
       "\n",
       "   State-mandated Conservation Standard - Current (Effective 6/1/2016)  \\\n",
       "0                                               0.28                     \n",
       "1                                               0.20                     \n",
       "2                                               0.26                     \n",
       "3                                               0.16                     \n",
       "4                                               0.33                     \n",
       "\n",
       "  Did Supplier Self-certify?  \\\n",
       "0                         No   \n",
       "1                        Yes   \n",
       "2                         No   \n",
       "3                         No   \n",
       "4                         No   \n",
       "\n",
       "   Enforceable Cumulative Percent Savings (as compared to 2013) - June 2015-Aug 2016  \\\n",
       "0                                              0.131                                   \n",
       "1                                              0.183                                   \n",
       "2                                              0.173                                   \n",
       "3                                              0.093                                   \n",
       "4                                              0.278                                   \n",
       "\n",
       "   June 2016 to Aug 2016 Self-certified?  \\\n",
       "0                                  0.180   \n",
       "1                                  0.071   \n",
       "2                                  0.124   \n",
       "3                                 -0.103   \n",
       "4                                  0.195   \n",
       "\n",
       "   Applicable Cumulative Savings by Supplier (as compared to 2013)  \\\n",
       "0                                              0.131                 \n",
       "1                                              0.071                 \n",
       "2                                              0.173                 \n",
       "3                                              0.093                 \n",
       "4                                              0.278                 \n",
       "\n",
       "   Missed Conservation Standard By Order Status  \\\n",
       "0                            0.149            C   \n",
       "1                            0.129          NaN   \n",
       "2                            0.087          NaN   \n",
       "3                            0.067            C   \n",
       "4                            0.052          NaN   \n",
       "\n",
       "   Monthly Savings (as compared to 2013) - Aug 2015  \\\n",
       "0                                             0.168   \n",
       "1                                             0.264   \n",
       "2                                             0.380   \n",
       "3                                             0.205   \n",
       "4                                             0.424   \n",
       "\n",
       "   Monthly Savings (as compared to 2013) - Aug 2016  \\\n",
       "0                                             0.205   \n",
       "1                                             0.119   \n",
       "2                                             0.172   \n",
       "3                                            -0.306   \n",
       "4                                             0.308   \n",
       "\n",
       "   Estimated Aug 2016 Monthly R-GPCD  Total Population Served  \n",
       "0                              148.5                    14120  \n",
       "1                              260.0                    45018  \n",
       "2                              181.1                    25664  \n",
       "3                              125.5                    29023  \n",
       "4                              202.9                    14076  "
      ]
     },
     "execution_count": 4,
     "metadata": {},
     "output_type": "execute_result"
    }
   ],
   "source": [
    "# Check the prepared dataset\n",
    "sc.head()"
   ]
  },
  {
   "cell_type": "code",
   "execution_count": 5,
   "metadata": {
    "collapsed": false,
    "nbpresent": {
     "id": "029cf6fe-2ce1-4ec0-b580-aaa5d76c23ea"
    }
   },
   "outputs": [
    {
     "data": {
      "text/html": [
       "<div>\n",
       "<table border=\"1\" class=\"dataframe\">\n",
       "  <thead>\n",
       "    <tr style=\"text-align: right;\">\n",
       "      <th></th>\n",
       "      <th>Supplier Name</th>\n",
       "      <th>Hydrologic Region</th>\n",
       "      <th>State-mandated Conservation Standard - Previous (3/1/2016)</th>\n",
       "      <th>State-mandated Conservation Standard - Current (Effective 6/1/2016)</th>\n",
       "      <th>Did Supplier Self-certify?</th>\n",
       "      <th>Enforceable Cumulative Percent Savings (as compared to 2013) - June 2015-Aug 2016</th>\n",
       "      <th>June 2016 to Aug 2016 Self-certified?</th>\n",
       "      <th>Applicable Cumulative Savings by Supplier (as compared to 2013)</th>\n",
       "      <th>Missed Conservation Standard By</th>\n",
       "      <th>Order Status</th>\n",
       "      <th>Monthly Savings (as compared to 2013) - Aug 2015</th>\n",
       "      <th>Monthly Savings (as compared to 2013) - Aug 2016</th>\n",
       "      <th>Estimated Aug 2016 Monthly R-GPCD</th>\n",
       "      <th>Total Population Served</th>\n",
       "    </tr>\n",
       "  </thead>\n",
       "  <tbody>\n",
       "    <tr>\n",
       "      <th>count</th>\n",
       "      <td>389</td>\n",
       "      <td>389</td>\n",
       "      <td>389.000000</td>\n",
       "      <td>389.000000</td>\n",
       "      <td>389</td>\n",
       "      <td>389.000000</td>\n",
       "      <td>389.000000</td>\n",
       "      <td>389.000000</td>\n",
       "      <td>389.000000</td>\n",
       "      <td>7</td>\n",
       "      <td>389.000000</td>\n",
       "      <td>389.000000</td>\n",
       "      <td>389.000000</td>\n",
       "      <td>3.890000e+02</td>\n",
       "    </tr>\n",
       "    <tr>\n",
       "      <th>unique</th>\n",
       "      <td>389</td>\n",
       "      <td>10</td>\n",
       "      <td>NaN</td>\n",
       "      <td>NaN</td>\n",
       "      <td>2</td>\n",
       "      <td>NaN</td>\n",
       "      <td>NaN</td>\n",
       "      <td>NaN</td>\n",
       "      <td>NaN</td>\n",
       "      <td>2</td>\n",
       "      <td>NaN</td>\n",
       "      <td>NaN</td>\n",
       "      <td>NaN</td>\n",
       "      <td>NaN</td>\n",
       "    </tr>\n",
       "    <tr>\n",
       "      <th>top</th>\n",
       "      <td>Nipomo Community Services District</td>\n",
       "      <td>South Coast</td>\n",
       "      <td>NaN</td>\n",
       "      <td>NaN</td>\n",
       "      <td>Yes</td>\n",
       "      <td>NaN</td>\n",
       "      <td>NaN</td>\n",
       "      <td>NaN</td>\n",
       "      <td>NaN</td>\n",
       "      <td>A</td>\n",
       "      <td>NaN</td>\n",
       "      <td>NaN</td>\n",
       "      <td>NaN</td>\n",
       "      <td>NaN</td>\n",
       "    </tr>\n",
       "    <tr>\n",
       "      <th>freq</th>\n",
       "      <td>1</td>\n",
       "      <td>171</td>\n",
       "      <td>NaN</td>\n",
       "      <td>NaN</td>\n",
       "      <td>361</td>\n",
       "      <td>NaN</td>\n",
       "      <td>NaN</td>\n",
       "      <td>NaN</td>\n",
       "      <td>NaN</td>\n",
       "      <td>4</td>\n",
       "      <td>NaN</td>\n",
       "      <td>NaN</td>\n",
       "      <td>NaN</td>\n",
       "      <td>NaN</td>\n",
       "    </tr>\n",
       "    <tr>\n",
       "      <th>mean</th>\n",
       "      <td>NaN</td>\n",
       "      <td>NaN</td>\n",
       "      <td>0.217609</td>\n",
       "      <td>0.023136</td>\n",
       "      <td>NaN</td>\n",
       "      <td>0.242018</td>\n",
       "      <td>0.202856</td>\n",
       "      <td>0.204820</td>\n",
       "      <td>-0.181684</td>\n",
       "      <td>NaN</td>\n",
       "      <td>0.270414</td>\n",
       "      <td>0.180591</td>\n",
       "      <td>133.831877</td>\n",
       "      <td>9.065885e+04</td>\n",
       "    </tr>\n",
       "    <tr>\n",
       "      <th>std</th>\n",
       "      <td>NaN</td>\n",
       "      <td>NaN</td>\n",
       "      <td>0.079607</td>\n",
       "      <td>0.063861</td>\n",
       "      <td>NaN</td>\n",
       "      <td>0.068435</td>\n",
       "      <td>0.071208</td>\n",
       "      <td>0.070885</td>\n",
       "      <td>0.082255</td>\n",
       "      <td>NaN</td>\n",
       "      <td>0.089001</td>\n",
       "      <td>0.083947</td>\n",
       "      <td>68.239474</td>\n",
       "      <td>2.434458e+05</td>\n",
       "    </tr>\n",
       "    <tr>\n",
       "      <th>min</th>\n",
       "      <td>NaN</td>\n",
       "      <td>NaN</td>\n",
       "      <td>0.040000</td>\n",
       "      <td>0.000000</td>\n",
       "      <td>NaN</td>\n",
       "      <td>0.046000</td>\n",
       "      <td>-0.103000</td>\n",
       "      <td>-0.029000</td>\n",
       "      <td>-0.479000</td>\n",
       "      <td>NaN</td>\n",
       "      <td>-0.174000</td>\n",
       "      <td>-0.306000</td>\n",
       "      <td>35.400000</td>\n",
       "      <td>1.120000e+02</td>\n",
       "    </tr>\n",
       "    <tr>\n",
       "      <th>25%</th>\n",
       "      <td>NaN</td>\n",
       "      <td>NaN</td>\n",
       "      <td>0.160000</td>\n",
       "      <td>0.000000</td>\n",
       "      <td>NaN</td>\n",
       "      <td>0.199000</td>\n",
       "      <td>0.159000</td>\n",
       "      <td>0.160000</td>\n",
       "      <td>-0.227000</td>\n",
       "      <td>NaN</td>\n",
       "      <td>0.217000</td>\n",
       "      <td>0.137000</td>\n",
       "      <td>87.000000</td>\n",
       "      <td>2.049900e+04</td>\n",
       "    </tr>\n",
       "    <tr>\n",
       "      <th>50%</th>\n",
       "      <td>NaN</td>\n",
       "      <td>NaN</td>\n",
       "      <td>0.220000</td>\n",
       "      <td>0.000000</td>\n",
       "      <td>NaN</td>\n",
       "      <td>0.239000</td>\n",
       "      <td>0.201000</td>\n",
       "      <td>0.203000</td>\n",
       "      <td>-0.188000</td>\n",
       "      <td>NaN</td>\n",
       "      <td>0.274000</td>\n",
       "      <td>0.180000</td>\n",
       "      <td>118.300000</td>\n",
       "      <td>4.376700e+04</td>\n",
       "    </tr>\n",
       "    <tr>\n",
       "      <th>75%</th>\n",
       "      <td>NaN</td>\n",
       "      <td>NaN</td>\n",
       "      <td>0.280000</td>\n",
       "      <td>0.000000</td>\n",
       "      <td>NaN</td>\n",
       "      <td>0.281000</td>\n",
       "      <td>0.241000</td>\n",
       "      <td>0.243000</td>\n",
       "      <td>-0.144000</td>\n",
       "      <td>NaN</td>\n",
       "      <td>0.326000</td>\n",
       "      <td>0.223000</td>\n",
       "      <td>164.500000</td>\n",
       "      <td>9.120700e+04</td>\n",
       "    </tr>\n",
       "    <tr>\n",
       "      <th>max</th>\n",
       "      <td>NaN</td>\n",
       "      <td>NaN</td>\n",
       "      <td>0.360000</td>\n",
       "      <td>0.340000</td>\n",
       "      <td>NaN</td>\n",
       "      <td>0.484000</td>\n",
       "      <td>0.479000</td>\n",
       "      <td>0.481000</td>\n",
       "      <td>0.149000</td>\n",
       "      <td>NaN</td>\n",
       "      <td>0.556000</td>\n",
       "      <td>0.459000</td>\n",
       "      <td>524.600000</td>\n",
       "      <td>4.061504e+06</td>\n",
       "    </tr>\n",
       "  </tbody>\n",
       "</table>\n",
       "</div>"
      ],
      "text/plain": [
       "                             Supplier Name Hydrologic Region  \\\n",
       "count                                  389               389   \n",
       "unique                                 389                10   \n",
       "top     Nipomo Community Services District       South Coast   \n",
       "freq                                     1               171   \n",
       "mean                                   NaN               NaN   \n",
       "std                                    NaN               NaN   \n",
       "min                                    NaN               NaN   \n",
       "25%                                    NaN               NaN   \n",
       "50%                                    NaN               NaN   \n",
       "75%                                    NaN               NaN   \n",
       "max                                    NaN               NaN   \n",
       "\n",
       "        State-mandated Conservation Standard - Previous (3/1/2016)  \\\n",
       "count                                          389.000000            \n",
       "unique                                                NaN            \n",
       "top                                                   NaN            \n",
       "freq                                                  NaN            \n",
       "mean                                             0.217609            \n",
       "std                                              0.079607            \n",
       "min                                              0.040000            \n",
       "25%                                              0.160000            \n",
       "50%                                              0.220000            \n",
       "75%                                              0.280000            \n",
       "max                                              0.360000            \n",
       "\n",
       "        State-mandated Conservation Standard - Current (Effective 6/1/2016)  \\\n",
       "count                                          389.000000                     \n",
       "unique                                                NaN                     \n",
       "top                                                   NaN                     \n",
       "freq                                                  NaN                     \n",
       "mean                                             0.023136                     \n",
       "std                                              0.063861                     \n",
       "min                                              0.000000                     \n",
       "25%                                              0.000000                     \n",
       "50%                                              0.000000                     \n",
       "75%                                              0.000000                     \n",
       "max                                              0.340000                     \n",
       "\n",
       "       Did Supplier Self-certify?  \\\n",
       "count                         389   \n",
       "unique                          2   \n",
       "top                           Yes   \n",
       "freq                          361   \n",
       "mean                          NaN   \n",
       "std                           NaN   \n",
       "min                           NaN   \n",
       "25%                           NaN   \n",
       "50%                           NaN   \n",
       "75%                           NaN   \n",
       "max                           NaN   \n",
       "\n",
       "        Enforceable Cumulative Percent Savings (as compared to 2013) - June 2015-Aug 2016  \\\n",
       "count                                          389.000000                                   \n",
       "unique                                                NaN                                   \n",
       "top                                                   NaN                                   \n",
       "freq                                                  NaN                                   \n",
       "mean                                             0.242018                                   \n",
       "std                                              0.068435                                   \n",
       "min                                              0.046000                                   \n",
       "25%                                              0.199000                                   \n",
       "50%                                              0.239000                                   \n",
       "75%                                              0.281000                                   \n",
       "max                                              0.484000                                   \n",
       "\n",
       "        June 2016 to Aug 2016 Self-certified?  \\\n",
       "count                              389.000000   \n",
       "unique                                    NaN   \n",
       "top                                       NaN   \n",
       "freq                                      NaN   \n",
       "mean                                 0.202856   \n",
       "std                                  0.071208   \n",
       "min                                 -0.103000   \n",
       "25%                                  0.159000   \n",
       "50%                                  0.201000   \n",
       "75%                                  0.241000   \n",
       "max                                  0.479000   \n",
       "\n",
       "        Applicable Cumulative Savings by Supplier (as compared to 2013)  \\\n",
       "count                                          389.000000                 \n",
       "unique                                                NaN                 \n",
       "top                                                   NaN                 \n",
       "freq                                                  NaN                 \n",
       "mean                                             0.204820                 \n",
       "std                                              0.070885                 \n",
       "min                                             -0.029000                 \n",
       "25%                                              0.160000                 \n",
       "50%                                              0.203000                 \n",
       "75%                                              0.243000                 \n",
       "max                                              0.481000                 \n",
       "\n",
       "        Missed Conservation Standard By Order Status  \\\n",
       "count                        389.000000            7   \n",
       "unique                              NaN            2   \n",
       "top                                 NaN            A   \n",
       "freq                                NaN            4   \n",
       "mean                          -0.181684          NaN   \n",
       "std                            0.082255          NaN   \n",
       "min                           -0.479000          NaN   \n",
       "25%                           -0.227000          NaN   \n",
       "50%                           -0.188000          NaN   \n",
       "75%                           -0.144000          NaN   \n",
       "max                            0.149000          NaN   \n",
       "\n",
       "        Monthly Savings (as compared to 2013) - Aug 2015  \\\n",
       "count                                         389.000000   \n",
       "unique                                               NaN   \n",
       "top                                                  NaN   \n",
       "freq                                                 NaN   \n",
       "mean                                            0.270414   \n",
       "std                                             0.089001   \n",
       "min                                            -0.174000   \n",
       "25%                                             0.217000   \n",
       "50%                                             0.274000   \n",
       "75%                                             0.326000   \n",
       "max                                             0.556000   \n",
       "\n",
       "        Monthly Savings (as compared to 2013) - Aug 2016  \\\n",
       "count                                         389.000000   \n",
       "unique                                               NaN   \n",
       "top                                                  NaN   \n",
       "freq                                                 NaN   \n",
       "mean                                            0.180591   \n",
       "std                                             0.083947   \n",
       "min                                            -0.306000   \n",
       "25%                                             0.137000   \n",
       "50%                                             0.180000   \n",
       "75%                                             0.223000   \n",
       "max                                             0.459000   \n",
       "\n",
       "        Estimated Aug 2016 Monthly R-GPCD  Total Population Served  \n",
       "count                          389.000000             3.890000e+02  \n",
       "unique                                NaN                      NaN  \n",
       "top                                   NaN                      NaN  \n",
       "freq                                  NaN                      NaN  \n",
       "mean                           133.831877             9.065885e+04  \n",
       "std                             68.239474             2.434458e+05  \n",
       "min                             35.400000             1.120000e+02  \n",
       "25%                             87.000000             2.049900e+04  \n",
       "50%                            118.300000             4.376700e+04  \n",
       "75%                            164.500000             9.120700e+04  \n",
       "max                            524.600000             4.061504e+06  "
      ]
     },
     "execution_count": 5,
     "metadata": {},
     "output_type": "execute_result"
    }
   ],
   "source": [
    "# Calculate basic statistics like mean, median, etc. about the dataset\n",
    "sc.describe(include = 'all')"
   ]
  },
  {
   "cell_type": "markdown",
   "metadata": {
    "nbpresent": {
     "id": "61e37dc8-6b1d-4009-b09d-3bb151e1ebca"
    }
   },
   "source": [
    "## Data Exploration\n",
    "In this section some basic exploration about the dataset is done."
   ]
  },
  {
   "cell_type": "code",
   "execution_count": 6,
   "metadata": {
    "collapsed": false,
    "nbpresent": {
     "id": "ceb578d2-4581-4b97-8460-2520b36fb971"
    }
   },
   "outputs": [
    {
     "data": {
      "image/png": "[encoded data removed]",
      "text/plain": [
       "<matplotlib.figure.Figure at 0x7f4810ddc160>"
      ]
     },
     "metadata": {},
     "output_type": "display_data"
    }
   ],
   "source": [
    "# Create boxplots with information on how much the conservation standard was missed for each hydrologic region\n",
    "ax = sns.boxplot(x='Missed Conservation Standard By', y='Hydrologic Region', data=sc, whis=np.inf)\n",
    "# Invert the x-axis since a negative value for missed conservation is a good thing (means that they overperformed)\n",
    "ax.invert_xaxis()"
   ]
  },
  {
   "cell_type": "code",
   "execution_count": 7,
   "metadata": {
    "collapsed": false,
    "nbpresent": {
     "id": "2df8bca6-d7e9-4285-a5b8-fc878d1c7ab1"
    }
   },
   "outputs": [
    {
     "data": {
      "image/png": "[encoded data removed]",
      "text/plain": [
       "<matplotlib.figure.Figure at 0x7f480e6a6198>"
      ]
     },
     "metadata": {},
     "output_type": "display_data"
    }
   ],
   "source": [
    "# Investigate whether suppliers that have a higher residential gallons per capita day are more\n",
    "# likely to miss conservation standards with a scatterplot\n",
    "g = sns.jointplot('Estimated Aug 2016 Monthly R-GPCD', 'Missed Conservation Standard By', data=sc, kind='scatter')\n",
    "# Invert the y-axis since a negative value for missed conservation is a good thing (means that they overperformed)\n",
    "g.fig.get_axes()[0].invert_yaxis()"
   ]
  },
  {
   "cell_type": "code",
   "execution_count": 8,
   "metadata": {
    "collapsed": false,
    "nbpresent": {
     "id": "eadc362d-05a8-4f8e-93e4-a806ba2debe9"
    }
   },
   "outputs": [
    {
     "data": {
      "image/png": "[encoded data removed]",
      "text/plain": [
       "<matplotlib.figure.Figure at 0x7f480e47d5c0>"
      ]
     },
     "metadata": {},
     "output_type": "display_data"
    }
   ],
   "source": [
    "# Investigate whether suppliers that serve a larger population are more likely to miss\n",
    "# conservation standards with a scatterplot (ignoring supplier with a population of more than 500,000 to\n",
    "# improve readability of the graph)\n",
    "g = sns.jointplot('Total Population Served', 'Missed Conservation Standard By', data=sc, kind='scatter', xlim=(0,500000))\n",
    "# Invert the y-axis since a negative value for missed conservation is a good thing (means that they overperformed)\n",
    "g.fig.get_axes()[0].invert_yaxis()"
   ]
  },
  {
   "cell_type": "code",
   "execution_count": 9,
   "metadata": {
    "collapsed": false,
    "nbpresent": {
     "id": "8324276f-b1c0-4c8d-b433-120f8c953f33"
    }
   },
   "outputs": [
    {
     "data": {
      "text/plain": [
       "Hydrologic Region\n",
       "Central Coast         32\n",
       "Colorado River        11\n",
       "North Coast           14\n",
       "North Lahontan         4\n",
       "Sacramento River      41\n",
       "San Francisco Bay     44\n",
       "San Joaquin River     26\n",
       "South Coast          171\n",
       "South Lahontan        17\n",
       "Tulare Lake           29\n",
       "Name: Hydrologic Region, dtype: int64"
      ]
     },
     "execution_count": 9,
     "metadata": {},
     "output_type": "execute_result"
    }
   ],
   "source": [
    "# Calculate the number of suppliers per region\n",
    "sc.groupby('Hydrologic Region')['Hydrologic Region'].count()"
   ]
  },
  {
   "cell_type": "markdown",
   "metadata": {
    "nbpresent": {
     "id": "9c0d1007-93ba-4d19-abc4-f83c25b40bea"
    }
   },
   "source": [
    "## Underperforming Suppliers\n",
    "Analysis done for non-self-certified suppliers that did non reach their conservation standards."
   ]
  },
  {
   "cell_type": "code",
   "execution_count": 10,
   "metadata": {
    "collapsed": false,
    "nbpresent": {
     "id": "127178c2-61f4-44e4-a2e2-57d0508c8fc1"
    }
   },
   "outputs": [],
   "source": [
    "# Add a boolean column to the dataframe to identify underperforming suppliers\n",
    "sc['Underperforming'] = sc['Missed Conservation Standard By'] > 0"
   ]
  },
  {
   "cell_type": "code",
   "execution_count": 11,
   "metadata": {
    "collapsed": false,
    "nbpresent": {
     "id": "18d6293c-cf9c-42cd-93d2-5235faa147e7"
    },
    "scrolled": false
   },
   "outputs": [
    {
     "data": {
      "text/html": [
       "<div>\n",
       "<table border=\"1\" class=\"dataframe\">\n",
       "  <thead>\n",
       "    <tr style=\"text-align: right;\">\n",
       "      <th></th>\n",
       "      <th></th>\n",
       "      <th>Supplier Name</th>\n",
       "      <th>Missed Conservation Standard By</th>\n",
       "    </tr>\n",
       "    <tr>\n",
       "      <th>Hydrologic Region</th>\n",
       "      <th></th>\n",
       "      <th></th>\n",
       "      <th></th>\n",
       "    </tr>\n",
       "  </thead>\n",
       "  <tbody>\n",
       "    <tr>\n",
       "      <th>Sacramento River</th>\n",
       "      <th>4</th>\n",
       "      <td>Red Bluff  City of</td>\n",
       "      <td>0.052</td>\n",
       "    </tr>\n",
       "    <tr>\n",
       "      <th>South Coast</th>\n",
       "      <th>9</th>\n",
       "      <td>Fillmore  City of</td>\n",
       "      <td>0.026</td>\n",
       "    </tr>\n",
       "    <tr>\n",
       "      <th rowspan=\"2\" valign=\"top\">South Lahontan</th>\n",
       "      <th>0</th>\n",
       "      <td>California City  City of</td>\n",
       "      <td>0.149</td>\n",
       "    </tr>\n",
       "    <tr>\n",
       "      <th>3</th>\n",
       "      <td>Adelanto City of</td>\n",
       "      <td>0.067</td>\n",
       "    </tr>\n",
       "    <tr>\n",
       "      <th rowspan=\"2\" valign=\"top\">Tulare Lake</th>\n",
       "      <th>2</th>\n",
       "      <td>Sanger  City of</td>\n",
       "      <td>0.087</td>\n",
       "    </tr>\n",
       "    <tr>\n",
       "      <th>6</th>\n",
       "      <td>Bakman Water Company</td>\n",
       "      <td>0.033</td>\n",
       "    </tr>\n",
       "  </tbody>\n",
       "</table>\n",
       "</div>"
      ],
      "text/plain": [
       "                                Supplier Name  Missed Conservation Standard By\n",
       "Hydrologic Region                                                             \n",
       "Sacramento River  4        Red Bluff  City of                            0.052\n",
       "South Coast       9         Fillmore  City of                            0.026\n",
       "South Lahontan    0  California City  City of                            0.149\n",
       "                  3          Adelanto City of                            0.067\n",
       "Tulare Lake       2           Sanger  City of                            0.087\n",
       "                  6      Bakman Water Company                            0.033"
      ]
     },
     "execution_count": 11,
     "metadata": {},
     "output_type": "execute_result"
    }
   ],
   "source": [
    "# Calculate the 5 most underperforming suppliers per region\n",
    "sc[sc['Underperforming'] & (sc['Did Supplier Self-certify?'] == 'No')].groupby('Hydrologic Region') \\\n",
    "  ['Supplier Name', 'Missed Conservation Standard By'].apply(lambda x: x.nlargest(5, 'Missed Conservation Standard By'))"
   ]
  },
  {
   "cell_type": "code",
   "execution_count": 12,
   "metadata": {
    "collapsed": false,
    "nbpresent": {
     "id": "94f06b1e-80c6-4de1-a1dd-db3e0970d61b"
    }
   },
   "outputs": [
    {
     "data": {
      "text/plain": [
       "<matplotlib.axes._subplots.AxesSubplot at 0x7f480e245c88>"
      ]
     },
     "execution_count": 12,
     "metadata": {},
     "output_type": "execute_result"
    },
    {
     "data": {
      "image/png": "[encoded data removed]",
      "text/plain": [
       "<matplotlib.figure.Figure at 0x7f480e3b17b8>"
      ]
     },
     "metadata": {},
     "output_type": "display_data"
    }
   ],
   "source": [
    "# Print boxplots for the total population served separated by performance\n",
    "sns.boxplot(x='Underperforming', y='Total Population Served', whis=np.inf,\n",
    "            data=sc[sc['Did Supplier Self-certify?'] == 'No'])"
   ]
  },
  {
   "cell_type": "code",
   "execution_count": 13,
   "metadata": {
    "collapsed": false,
    "nbpresent": {
     "id": "2821bf1e-a2a1-43c3-9f33-fb80380b191f"
    }
   },
   "outputs": [
    {
     "data": {
      "text/plain": [
       "<matplotlib.axes._subplots.AxesSubplot at 0x7f4810ddce10>"
      ]
     },
     "execution_count": 13,
     "metadata": {},
     "output_type": "execute_result"
    },
    {
     "data": {
      "image/png": "[encoded data removed]",
      "text/plain": [
       "<matplotlib.figure.Figure at 0x7f480e2009e8>"
      ]
     },
     "metadata": {},
     "output_type": "display_data"
    }
   ],
   "source": [
    "# Print boxplots for the residential gallons per capita day separated by performance\n",
    "sns.boxplot(x='Underperforming', y='Estimated Aug 2016 Monthly R-GPCD', whis=np.inf,\n",
    "            data=sc[sc['Did Supplier Self-certify?'] == 'No'])"
   ]
  },
  {
   "cell_type": "markdown",
   "metadata": {
    "nbpresent": {
     "id": "e3a0f8ba-b33a-4ee7-8404-aae8533d1ea8"
    }
   },
   "source": [
    "## Self-certification\n",
    "This analysis evaluates how self-certification influences the performance of suppliers."
   ]
  },
  {
   "cell_type": "code",
   "execution_count": 14,
   "metadata": {
    "collapsed": false
   },
   "outputs": [
    {
     "data": {
      "image/png": "[encoded data removed]",
      "text/plain": [
       "<matplotlib.figure.Figure at 0x7f480e1678d0>"
      ]
     },
     "metadata": {},
     "output_type": "display_data"
    }
   ],
   "source": [
    "# Print boxplots for how much the conservation standard was missed separated by self-certification\n",
    "ax = sns.boxplot(x='Did Supplier Self-certify?', y='Missed Conservation Standard By', data=sc, whis=np.inf)\n",
    "# Invert the y-axis since a negative value for missed conservation is a good thing (means that they overperformed)\n",
    "ax.invert_yaxis()"
   ]
  },
  {
   "cell_type": "code",
   "execution_count": 15,
   "metadata": {
    "collapsed": false
   },
   "outputs": [
    {
     "data": {
      "image/png": "[encoded data removed]",
      "text/plain": [
       "<matplotlib.figure.Figure at 0x7f480e40feb8>"
      ]
     },
     "metadata": {},
     "output_type": "display_data"
    }
   ],
   "source": [
    "# Print histograms for how much the conservation standard was missed separated by self-certification\n",
    "g = sns.FacetGrid(sc, col='Did Supplier Self-certify?')\n",
    "g = g.map(sns.distplot, 'Missed Conservation Standard By', kde=False)\n",
    "# Invert the x-axis since a negative value for missed conservation is a good thing (means that they overperformed)\n",
    "g.fig.get_axes()[0].invert_xaxis()"
   ]
  },
  {
   "cell_type": "code",
   "execution_count": 16,
   "metadata": {
    "collapsed": false
   },
   "outputs": [
    {
     "data": {
      "text/plain": [
       "<matplotlib.axes._subplots.AxesSubplot at 0x7f480e5a48d0>"
      ]
     },
     "execution_count": 16,
     "metadata": {},
     "output_type": "execute_result"
    },
    {
     "data": {
      "image/png": "[encoded data removed]",
      "text/plain": [
       "<matplotlib.figure.Figure at 0x7f480e183ba8>"
      ]
     },
     "metadata": {},
     "output_type": "display_data"
    }
   ],
   "source": [
    "# Print histogram for conservation standard of the self-certified suppliers since based on the last graph\n",
    "# it is suspected that they have a different standard\n",
    "sns.distplot(sc.loc[sc['Did Supplier Self-certify?'] == 'Yes', 'State-mandated Conservation Standard - Current (Effective 6/1/2016)'], kde=False)"
   ]
  },
  {
   "cell_type": "code",
   "execution_count": 17,
   "metadata": {
    "collapsed": false
   },
   "outputs": [
    {
     "data": {
      "text/plain": [
       "0.9085872576177285"
      ]
     },
     "execution_count": 17,
     "metadata": {},
     "output_type": "execute_result"
    }
   ],
   "source": [
    "# Calculate percentage of self-certified suppliers that have a conservation standard of 0 since\n",
    "# most suppliers are in the lowest bin of the prvious histogram\n",
    "sc_count = sc[sc['Did Supplier Self-certify?'] == 'Yes'].shape[0]\n",
    "sc_cons0_count = sc[(sc['Did Supplier Self-certify?'] == 'Yes') & \\\n",
    "                       (sc['State-mandated Conservation Standard - Current (Effective 6/1/2016)'] == 0)].shape[0]\n",
    "(sc_cons0_count / sc_count)"
   ]
  },
  {
   "cell_type": "markdown",
   "metadata": {},
   "source": [
    "## Supplier Compliance\n",
    "In this section we try to predict suppliers that will miss their conservation standard."
   ]
  },
  {
   "cell_type": "code",
   "execution_count": 18,
   "metadata": {
    "collapsed": false
   },
   "outputs": [
    {
     "data": {
      "text/html": [
       "<div>\n",
       "<table border=\"1\" class=\"dataframe\">\n",
       "  <thead>\n",
       "    <tr style=\"text-align: right;\">\n",
       "      <th></th>\n",
       "      <th>S-M CS (3/1/2016)</th>\n",
       "      <th>S-M CS (6/1/2016)</th>\n",
       "      <th>Enforceable Cumulative %</th>\n",
       "      <th>Self-Certification</th>\n",
       "      <th>Applicable Cumulative %</th>\n",
       "      <th>Miss Conservation Standard</th>\n",
       "      <th>Monthly Savings (August 2015)</th>\n",
       "      <th>Monthly Savings (August 2016)</th>\n",
       "      <th>R-GPCD</th>\n",
       "      <th>Total Population</th>\n",
       "      <th>Underperforming</th>\n",
       "    </tr>\n",
       "  </thead>\n",
       "  <tbody>\n",
       "    <tr>\n",
       "      <th>S-M CS (3/1/2016)</th>\n",
       "      <td>1.000000</td>\n",
       "      <td>0.119652</td>\n",
       "      <td>0.487124</td>\n",
       "      <td>0.284381</td>\n",
       "      <td>0.289372</td>\n",
       "      <td>-0.156477</td>\n",
       "      <td>0.416825</td>\n",
       "      <td>0.169345</td>\n",
       "      <td>0.751668</td>\n",
       "      <td>-0.135968</td>\n",
       "      <td>-0.000245</td>\n",
       "    </tr>\n",
       "    <tr>\n",
       "      <th>S-M CS (6/1/2016)</th>\n",
       "      <td>0.119652</td>\n",
       "      <td>1.000000</td>\n",
       "      <td>0.146387</td>\n",
       "      <td>0.168168</td>\n",
       "      <td>0.258134</td>\n",
       "      <td>0.553928</td>\n",
       "      <td>0.104832</td>\n",
       "      <td>0.177243</td>\n",
       "      <td>0.104855</td>\n",
       "      <td>-0.071906</td>\n",
       "      <td>0.450452</td>\n",
       "    </tr>\n",
       "    <tr>\n",
       "      <th>Enforceable Cumulative %</th>\n",
       "      <td>0.487124</td>\n",
       "      <td>0.146387</td>\n",
       "      <td>1.000000</td>\n",
       "      <td>0.840911</td>\n",
       "      <td>0.851498</td>\n",
       "      <td>-0.620144</td>\n",
       "      <td>0.810566</td>\n",
       "      <td>0.658547</td>\n",
       "      <td>0.428711</td>\n",
       "      <td>-0.111819</td>\n",
       "      <td>-0.159714</td>\n",
       "    </tr>\n",
       "    <tr>\n",
       "      <th>Self-Certification</th>\n",
       "      <td>0.284381</td>\n",
       "      <td>0.168168</td>\n",
       "      <td>0.840911</td>\n",
       "      <td>1.000000</td>\n",
       "      <td>0.974463</td>\n",
       "      <td>-0.709202</td>\n",
       "      <td>0.614935</td>\n",
       "      <td>0.834198</td>\n",
       "      <td>0.156028</td>\n",
       "      <td>-0.075887</td>\n",
       "      <td>-0.238595</td>\n",
       "    </tr>\n",
       "    <tr>\n",
       "      <th>Applicable Cumulative %</th>\n",
       "      <td>0.289372</td>\n",
       "      <td>0.258134</td>\n",
       "      <td>0.851498</td>\n",
       "      <td>0.974463</td>\n",
       "      <td>1.000000</td>\n",
       "      <td>-0.661361</td>\n",
       "      <td>0.629863</td>\n",
       "      <td>0.793444</td>\n",
       "      <td>0.184813</td>\n",
       "      <td>-0.084115</td>\n",
       "      <td>-0.191916</td>\n",
       "    </tr>\n",
       "    <tr>\n",
       "      <th>Miss Conservation Standard</th>\n",
       "      <td>-0.156477</td>\n",
       "      <td>0.553928</td>\n",
       "      <td>-0.620144</td>\n",
       "      <td>-0.709202</td>\n",
       "      <td>-0.661361</td>\n",
       "      <td>1.000000</td>\n",
       "      <td>-0.461408</td>\n",
       "      <td>-0.546159</td>\n",
       "      <td>-0.077859</td>\n",
       "      <td>0.016662</td>\n",
       "      <td>0.515110</td>\n",
       "    </tr>\n",
       "    <tr>\n",
       "      <th>Monthly Savings (August 2015)</th>\n",
       "      <td>0.416825</td>\n",
       "      <td>0.104832</td>\n",
       "      <td>0.810566</td>\n",
       "      <td>0.614935</td>\n",
       "      <td>0.629863</td>\n",
       "      <td>-0.461408</td>\n",
       "      <td>1.000000</td>\n",
       "      <td>0.585345</td>\n",
       "      <td>0.396457</td>\n",
       "      <td>-0.076487</td>\n",
       "      <td>-0.041810</td>\n",
       "    </tr>\n",
       "    <tr>\n",
       "      <th>Monthly Savings (August 2016)</th>\n",
       "      <td>0.169345</td>\n",
       "      <td>0.177243</td>\n",
       "      <td>0.658547</td>\n",
       "      <td>0.834198</td>\n",
       "      <td>0.793444</td>\n",
       "      <td>-0.546159</td>\n",
       "      <td>0.585345</td>\n",
       "      <td>1.000000</td>\n",
       "      <td>0.023549</td>\n",
       "      <td>-0.043824</td>\n",
       "      <td>-0.132839</td>\n",
       "    </tr>\n",
       "    <tr>\n",
       "      <th>R-GPCD</th>\n",
       "      <td>0.751668</td>\n",
       "      <td>0.104855</td>\n",
       "      <td>0.428711</td>\n",
       "      <td>0.156028</td>\n",
       "      <td>0.184813</td>\n",
       "      <td>-0.077859</td>\n",
       "      <td>0.396457</td>\n",
       "      <td>0.023549</td>\n",
       "      <td>1.000000</td>\n",
       "      <td>-0.106280</td>\n",
       "      <td>0.030000</td>\n",
       "    </tr>\n",
       "    <tr>\n",
       "      <th>Total Population</th>\n",
       "      <td>-0.135968</td>\n",
       "      <td>-0.071906</td>\n",
       "      <td>-0.111819</td>\n",
       "      <td>-0.075887</td>\n",
       "      <td>-0.084115</td>\n",
       "      <td>0.016662</td>\n",
       "      <td>-0.076487</td>\n",
       "      <td>-0.043824</td>\n",
       "      <td>-0.106280</td>\n",
       "      <td>1.000000</td>\n",
       "      <td>-0.047846</td>\n",
       "    </tr>\n",
       "    <tr>\n",
       "      <th>Underperforming</th>\n",
       "      <td>-0.000245</td>\n",
       "      <td>0.450452</td>\n",
       "      <td>-0.159714</td>\n",
       "      <td>-0.238595</td>\n",
       "      <td>-0.191916</td>\n",
       "      <td>0.515110</td>\n",
       "      <td>-0.041810</td>\n",
       "      <td>-0.132839</td>\n",
       "      <td>0.030000</td>\n",
       "      <td>-0.047846</td>\n",
       "      <td>1.000000</td>\n",
       "    </tr>\n",
       "  </tbody>\n",
       "</table>\n",
       "</div>"
      ],
      "text/plain": [
       "                               S-M CS (3/1/2016)  S-M CS (6/1/2016)  \\\n",
       "S-M CS (3/1/2016)                       1.000000           0.119652   \n",
       "S-M CS (6/1/2016)                       0.119652           1.000000   \n",
       "Enforceable Cumulative %                0.487124           0.146387   \n",
       "Self-Certification                      0.284381           0.168168   \n",
       "Applicable Cumulative %                 0.289372           0.258134   \n",
       "Miss Conservation Standard             -0.156477           0.553928   \n",
       "Monthly Savings (August 2015)           0.416825           0.104832   \n",
       "Monthly Savings (August 2016)           0.169345           0.177243   \n",
       "R-GPCD                                  0.751668           0.104855   \n",
       "Total Population                       -0.135968          -0.071906   \n",
       "Underperforming                        -0.000245           0.450452   \n",
       "\n",
       "                               Enforceable Cumulative %  Self-Certification  \\\n",
       "S-M CS (3/1/2016)                              0.487124            0.284381   \n",
       "S-M CS (6/1/2016)                              0.146387            0.168168   \n",
       "Enforceable Cumulative %                       1.000000            0.840911   \n",
       "Self-Certification                             0.840911            1.000000   \n",
       "Applicable Cumulative %                        0.851498            0.974463   \n",
       "Miss Conservation Standard                    -0.620144           -0.709202   \n",
       "Monthly Savings (August 2015)                  0.810566            0.614935   \n",
       "Monthly Savings (August 2016)                  0.658547            0.834198   \n",
       "R-GPCD                                         0.428711            0.156028   \n",
       "Total Population                              -0.111819           -0.075887   \n",
       "Underperforming                               -0.159714           -0.238595   \n",
       "\n",
       "                               Applicable Cumulative %  \\\n",
       "S-M CS (3/1/2016)                             0.289372   \n",
       "S-M CS (6/1/2016)                             0.258134   \n",
       "Enforceable Cumulative %                      0.851498   \n",
       "Self-Certification                            0.974463   \n",
       "Applicable Cumulative %                       1.000000   \n",
       "Miss Conservation Standard                   -0.661361   \n",
       "Monthly Savings (August 2015)                 0.629863   \n",
       "Monthly Savings (August 2016)                 0.793444   \n",
       "R-GPCD                                        0.184813   \n",
       "Total Population                             -0.084115   \n",
       "Underperforming                              -0.191916   \n",
       "\n",
       "                               Miss Conservation Standard  \\\n",
       "S-M CS (3/1/2016)                               -0.156477   \n",
       "S-M CS (6/1/2016)                                0.553928   \n",
       "Enforceable Cumulative %                        -0.620144   \n",
       "Self-Certification                              -0.709202   \n",
       "Applicable Cumulative %                         -0.661361   \n",
       "Miss Conservation Standard                       1.000000   \n",
       "Monthly Savings (August 2015)                   -0.461408   \n",
       "Monthly Savings (August 2016)                   -0.546159   \n",
       "R-GPCD                                          -0.077859   \n",
       "Total Population                                 0.016662   \n",
       "Underperforming                                  0.515110   \n",
       "\n",
       "                               Monthly Savings (August 2015)  \\\n",
       "S-M CS (3/1/2016)                                   0.416825   \n",
       "S-M CS (6/1/2016)                                   0.104832   \n",
       "Enforceable Cumulative %                            0.810566   \n",
       "Self-Certification                                  0.614935   \n",
       "Applicable Cumulative %                             0.629863   \n",
       "Miss Conservation Standard                         -0.461408   \n",
       "Monthly Savings (August 2015)                       1.000000   \n",
       "Monthly Savings (August 2016)                       0.585345   \n",
       "R-GPCD                                              0.396457   \n",
       "Total Population                                   -0.076487   \n",
       "Underperforming                                    -0.041810   \n",
       "\n",
       "                               Monthly Savings (August 2016)    R-GPCD  \\\n",
       "S-M CS (3/1/2016)                                   0.169345  0.751668   \n",
       "S-M CS (6/1/2016)                                   0.177243  0.104855   \n",
       "Enforceable Cumulative %                            0.658547  0.428711   \n",
       "Self-Certification                                  0.834198  0.156028   \n",
       "Applicable Cumulative %                             0.793444  0.184813   \n",
       "Miss Conservation Standard                         -0.546159 -0.077859   \n",
       "Monthly Savings (August 2015)                       0.585345  0.396457   \n",
       "Monthly Savings (August 2016)                       1.000000  0.023549   \n",
       "R-GPCD                                              0.023549  1.000000   \n",
       "Total Population                                   -0.043824 -0.106280   \n",
       "Underperforming                                    -0.132839  0.030000   \n",
       "\n",
       "                               Total Population  Underperforming  \n",
       "S-M CS (3/1/2016)                     -0.135968        -0.000245  \n",
       "S-M CS (6/1/2016)                     -0.071906         0.450452  \n",
       "Enforceable Cumulative %              -0.111819        -0.159714  \n",
       "Self-Certification                    -0.075887        -0.238595  \n",
       "Applicable Cumulative %               -0.084115        -0.191916  \n",
       "Miss Conservation Standard             0.016662         0.515110  \n",
       "Monthly Savings (August 2015)         -0.076487        -0.041810  \n",
       "Monthly Savings (August 2016)         -0.043824        -0.132839  \n",
       "R-GPCD                                -0.106280         0.030000  \n",
       "Total Population                       1.000000        -0.047846  \n",
       "Underperforming                       -0.047846         1.000000  "
      ]
     },
     "execution_count": 18,
     "metadata": {},
     "output_type": "execute_result"
    }
   ],
   "source": [
    "# First print the correlation table to check for feature correlations\n",
    "corr = sc.corr()\n",
    "corr.columns = ['S-M CS (3/1/2016)', 'S-M CS (6/1/2016)', 'Enforceable Cumulative %', 'Self-Certification', 'Applicable Cumulative %', 'Miss Conservation Standard', 'Monthly Savings (August 2015)', 'Monthly Savings (August 2016)', 'R-GPCD', 'Total Population', 'Underperforming']\n",
    "corr.index = corr.columns\n",
    "corr"
   ]
  },
  {
   "cell_type": "code",
   "execution_count": 19,
   "metadata": {
    "collapsed": false
   },
   "outputs": [
    {
     "data": {
      "text/plain": [
       "<matplotlib.axes._subplots.AxesSubplot at 0x7f480e105128>"
      ]
     },
     "execution_count": 19,
     "metadata": {},
     "output_type": "execute_result"
    },
    {
     "data": {
      "image/png": "[encoded data removed]",
      "text/plain": [
       "<matplotlib.figure.Figure at 0x7f480e12a550>"
      ]
     },
     "metadata": {},
     "output_type": "display_data"
    }
   ],
   "source": [
    "# Plot the correlation matrix from above\n",
    "sns.heatmap(corr, annot=True, linewidths=0.5, xticklabels=False)"
   ]
  },
  {
   "cell_type": "code",
   "execution_count": 20,
   "metadata": {
    "collapsed": false
   },
   "outputs": [],
   "source": [
    "# Create 'Type' column with 0 = Fail, 1 = Pass as a label to predict the supplier compliance\n",
    "sc['Type'] = sc['Missed Conservation Standard By'].map(lambda x: 0 if x > 0 else 1)"
   ]
  },
  {
   "cell_type": "code",
   "execution_count": 21,
   "metadata": {
    "collapsed": true
   },
   "outputs": [],
   "source": [
    "# Define training and test sets\n",
    "np.random.seed(54321)\n",
    "split = np.random.rand(len(sc)) < 0.75\n",
    "train = sc[split]\n",
    "test = sc[~split]"
   ]
  },
  {
   "cell_type": "code",
   "execution_count": 22,
   "metadata": {
    "collapsed": true
   },
   "outputs": [],
   "source": [
    "# Call Gaussian Naive Bayesian class with default parameters\n",
    "clf = GaussianNB()"
   ]
  },
  {
   "cell_type": "code",
   "execution_count": 23,
   "metadata": {
    "collapsed": false
   },
   "outputs": [
    {
     "data": {
      "text/plain": [
       "GaussianNB(priors=None)"
      ]
     },
     "execution_count": 23,
     "metadata": {},
     "output_type": "execute_result"
    }
   ],
   "source": [
    "# Train model\n",
    "clf.fit(train.iloc[:,12:14], train['Type'])"
   ]
  },
  {
   "cell_type": "code",
   "execution_count": 24,
   "metadata": {
    "collapsed": false
   },
   "outputs": [
    {
     "name": "stdout",
     "output_type": "stream",
     "text": [
      "[1 1 1 1 1 1 1 1 1 1 1 1 1 1 1 1 1 1 1 1 1 1 1 1 1 1 1 1 1 1 1 1 1 1 1 1 1\n",
      " 1 1 1 1 1 1 1 1 1 1 1 1 1 1 1 1 1 1 1 1 1 1 1 1 1 1 1 1 1 1 1 1 1 1 1 1 1\n",
      " 1 1 1 1 1 1 1 1 1 1 1 1 1 1 1 1 1 1 1 1 1 1 1 1 1 1 1 1 1 1 1 1 1]\n"
     ]
    }
   ],
   "source": [
    "# Prediction\n",
    "prediction= clf.predict(test.iloc[:,12:14])\n",
    "print(prediction)"
   ]
  },
  {
   "cell_type": "code",
   "execution_count": 25,
   "metadata": {
    "collapsed": false
   },
   "outputs": [
    {
     "name": "stdout",
     "output_type": "stream",
     "text": [
      "Accuracy: 0.971962616822\n",
      "F1 Score: 0.985781990521\n",
      "Recall Score: 1.0\n",
      "Precision Score: 0.971962616822\n"
     ]
    }
   ],
   "source": [
    "# Calculate Accuracy, F1 Score, Recall, and Precision Scores\n",
    "print('Accuracy:', accuracy_score(test['Type'], prediction))\n",
    "print('F1 Score:', f1_score(test['Type'], prediction, average= 'binary'))\n",
    "print('Recall Score:', recall_score(test['Type'], prediction))\n",
    "print('Precision Score:', precision_score(test['Type'], prediction))"
   ]
  },
  {
   "cell_type": "code",
   "execution_count": 26,
   "metadata": {
    "collapsed": false
   },
   "outputs": [
    {
     "data": {
      "text/html": [
       "<div>\n",
       "<table border=\"1\" class=\"dataframe\">\n",
       "  <thead>\n",
       "    <tr style=\"text-align: right;\">\n",
       "      <th></th>\n",
       "      <th>Supplier Name</th>\n",
       "      <th>Hydrologic Region</th>\n",
       "      <th>State-mandated Conservation Standard - Previous (3/1/2016)</th>\n",
       "      <th>State-mandated Conservation Standard - Current (Effective 6/1/2016)</th>\n",
       "      <th>Did Supplier Self-certify?</th>\n",
       "      <th>Enforceable Cumulative Percent Savings (as compared to 2013) - June 2015-Aug 2016</th>\n",
       "      <th>June 2016 to Aug 2016 Self-certified?</th>\n",
       "      <th>Applicable Cumulative Savings by Supplier (as compared to 2013)</th>\n",
       "      <th>Missed Conservation Standard By</th>\n",
       "      <th>Order Status</th>\n",
       "      <th>Monthly Savings (as compared to 2013) - Aug 2015</th>\n",
       "      <th>Monthly Savings (as compared to 2013) - Aug 2016</th>\n",
       "      <th>Estimated Aug 2016 Monthly R-GPCD</th>\n",
       "      <th>Total Population Served</th>\n",
       "      <th>Underperforming</th>\n",
       "      <th>Type</th>\n",
       "    </tr>\n",
       "  </thead>\n",
       "  <tbody>\n",
       "    <tr>\n",
       "      <th>0</th>\n",
       "      <td>California City  City of</td>\n",
       "      <td>South Lahontan</td>\n",
       "      <td>0.28</td>\n",
       "      <td>0.28</td>\n",
       "      <td>No</td>\n",
       "      <td>0.131</td>\n",
       "      <td>0.180</td>\n",
       "      <td>0.131</td>\n",
       "      <td>0.149</td>\n",
       "      <td>C</td>\n",
       "      <td>0.168</td>\n",
       "      <td>0.205</td>\n",
       "      <td>148.5</td>\n",
       "      <td>14120</td>\n",
       "      <td>True</td>\n",
       "      <td>0</td>\n",
       "    </tr>\n",
       "    <tr>\n",
       "      <th>2</th>\n",
       "      <td>Sanger  City of</td>\n",
       "      <td>Tulare Lake</td>\n",
       "      <td>0.26</td>\n",
       "      <td>0.26</td>\n",
       "      <td>No</td>\n",
       "      <td>0.173</td>\n",
       "      <td>0.124</td>\n",
       "      <td>0.173</td>\n",
       "      <td>0.087</td>\n",
       "      <td>NaN</td>\n",
       "      <td>0.380</td>\n",
       "      <td>0.172</td>\n",
       "      <td>181.1</td>\n",
       "      <td>25664</td>\n",
       "      <td>True</td>\n",
       "      <td>0</td>\n",
       "    </tr>\n",
       "    <tr>\n",
       "      <th>3</th>\n",
       "      <td>Adelanto City of</td>\n",
       "      <td>South Lahontan</td>\n",
       "      <td>0.16</td>\n",
       "      <td>0.16</td>\n",
       "      <td>No</td>\n",
       "      <td>0.093</td>\n",
       "      <td>-0.103</td>\n",
       "      <td>0.093</td>\n",
       "      <td>0.067</td>\n",
       "      <td>C</td>\n",
       "      <td>0.205</td>\n",
       "      <td>-0.306</td>\n",
       "      <td>125.5</td>\n",
       "      <td>29023</td>\n",
       "      <td>True</td>\n",
       "      <td>0</td>\n",
       "    </tr>\n",
       "    <tr>\n",
       "      <th>4</th>\n",
       "      <td>Red Bluff  City of</td>\n",
       "      <td>Sacramento River</td>\n",
       "      <td>0.33</td>\n",
       "      <td>0.33</td>\n",
       "      <td>No</td>\n",
       "      <td>0.278</td>\n",
       "      <td>0.195</td>\n",
       "      <td>0.278</td>\n",
       "      <td>0.052</td>\n",
       "      <td>NaN</td>\n",
       "      <td>0.424</td>\n",
       "      <td>0.308</td>\n",
       "      <td>202.9</td>\n",
       "      <td>14076</td>\n",
       "      <td>True</td>\n",
       "      <td>0</td>\n",
       "    </tr>\n",
       "    <tr>\n",
       "      <th>6</th>\n",
       "      <td>Bakman Water Company</td>\n",
       "      <td>Tulare Lake</td>\n",
       "      <td>0.34</td>\n",
       "      <td>0.34</td>\n",
       "      <td>No</td>\n",
       "      <td>0.307</td>\n",
       "      <td>0.343</td>\n",
       "      <td>0.307</td>\n",
       "      <td>0.033</td>\n",
       "      <td>NaN</td>\n",
       "      <td>0.361</td>\n",
       "      <td>0.359</td>\n",
       "      <td>192.5</td>\n",
       "      <td>16756</td>\n",
       "      <td>True</td>\n",
       "      <td>0</td>\n",
       "    </tr>\n",
       "  </tbody>\n",
       "</table>\n",
       "</div>"
      ],
      "text/plain": [
       "              Supplier Name Hydrologic Region  \\\n",
       "0  California City  City of    South Lahontan   \n",
       "2           Sanger  City of       Tulare Lake   \n",
       "3          Adelanto City of    South Lahontan   \n",
       "4        Red Bluff  City of  Sacramento River   \n",
       "6      Bakman Water Company       Tulare Lake   \n",
       "\n",
       "   State-mandated Conservation Standard - Previous (3/1/2016)  \\\n",
       "0                                               0.28            \n",
       "2                                               0.26            \n",
       "3                                               0.16            \n",
       "4                                               0.33            \n",
       "6                                               0.34            \n",
       "\n",
       "   State-mandated Conservation Standard - Current (Effective 6/1/2016)  \\\n",
       "0                                               0.28                     \n",
       "2                                               0.26                     \n",
       "3                                               0.16                     \n",
       "4                                               0.33                     \n",
       "6                                               0.34                     \n",
       "\n",
       "  Did Supplier Self-certify?  \\\n",
       "0                         No   \n",
       "2                         No   \n",
       "3                         No   \n",
       "4                         No   \n",
       "6                         No   \n",
       "\n",
       "   Enforceable Cumulative Percent Savings (as compared to 2013) - June 2015-Aug 2016  \\\n",
       "0                                              0.131                                   \n",
       "2                                              0.173                                   \n",
       "3                                              0.093                                   \n",
       "4                                              0.278                                   \n",
       "6                                              0.307                                   \n",
       "\n",
       "   June 2016 to Aug 2016 Self-certified?  \\\n",
       "0                                  0.180   \n",
       "2                                  0.124   \n",
       "3                                 -0.103   \n",
       "4                                  0.195   \n",
       "6                                  0.343   \n",
       "\n",
       "   Applicable Cumulative Savings by Supplier (as compared to 2013)  \\\n",
       "0                                              0.131                 \n",
       "2                                              0.173                 \n",
       "3                                              0.093                 \n",
       "4                                              0.278                 \n",
       "6                                              0.307                 \n",
       "\n",
       "   Missed Conservation Standard By Order Status  \\\n",
       "0                            0.149            C   \n",
       "2                            0.087          NaN   \n",
       "3                            0.067            C   \n",
       "4                            0.052          NaN   \n",
       "6                            0.033          NaN   \n",
       "\n",
       "   Monthly Savings (as compared to 2013) - Aug 2015  \\\n",
       "0                                             0.168   \n",
       "2                                             0.380   \n",
       "3                                             0.205   \n",
       "4                                             0.424   \n",
       "6                                             0.361   \n",
       "\n",
       "   Monthly Savings (as compared to 2013) - Aug 2016  \\\n",
       "0                                             0.205   \n",
       "2                                             0.172   \n",
       "3                                            -0.306   \n",
       "4                                             0.308   \n",
       "6                                             0.359   \n",
       "\n",
       "   Estimated Aug 2016 Monthly R-GPCD  Total Population Served Underperforming  \\\n",
       "0                              148.5                    14120            True   \n",
       "2                              181.1                    25664            True   \n",
       "3                              125.5                    29023            True   \n",
       "4                              202.9                    14076            True   \n",
       "6                              192.5                    16756            True   \n",
       "\n",
       "   Type  \n",
       "0     0  \n",
       "2     0  \n",
       "3     0  \n",
       "4     0  \n",
       "6     0  "
      ]
     },
     "execution_count": 26,
     "metadata": {},
     "output_type": "execute_result"
    }
   ],
   "source": [
    "# Only use non-self-certified data for the following analysis\n",
    "sc2 = sc.loc[sc['Did Supplier Self-certify?'] != 'Yes']\n",
    "sc2.head()"
   ]
  },
  {
   "cell_type": "code",
   "execution_count": 27,
   "metadata": {
    "collapsed": false
   },
   "outputs": [],
   "source": [
    "# Define training and test sets\n",
    "np.random.seed(54321)\n",
    "split2 = np.random.rand(len(sc2)) < 0.75\n",
    "train2 = sc2[split2]\n",
    "test2 = sc2[~split2]"
   ]
  },
  {
   "cell_type": "code",
   "execution_count": 28,
   "metadata": {
    "collapsed": true
   },
   "outputs": [],
   "source": [
    "# Call Gaussian Naive Bayesian class with default parameters\n",
    "clf2 = GaussianNB()"
   ]
  },
  {
   "cell_type": "code",
   "execution_count": 29,
   "metadata": {
    "collapsed": false
   },
   "outputs": [
    {
     "data": {
      "text/plain": [
       "GaussianNB(priors=None)"
      ]
     },
     "execution_count": 29,
     "metadata": {},
     "output_type": "execute_result"
    }
   ],
   "source": [
    "# Train model\n",
    "clf2.fit(train2.iloc[:,12:14], train2['Type'])"
   ]
  },
  {
   "cell_type": "code",
   "execution_count": 30,
   "metadata": {
    "collapsed": false
   },
   "outputs": [
    {
     "name": "stdout",
     "output_type": "stream",
     "text": [
      "[0 1 1 1 1 1 1 1 1 1 1]\n"
     ]
    }
   ],
   "source": [
    "# Prediction\n",
    "prediction2= clf2.predict(test2.iloc[:,12:14])\n",
    "print(prediction2)"
   ]
  },
  {
   "cell_type": "code",
   "execution_count": 31,
   "metadata": {
    "collapsed": false
   },
   "outputs": [
    {
     "name": "stdout",
     "output_type": "stream",
     "text": [
      "Accuracy: 0.909090909091\n",
      "F1 Score: 0.947368421053\n",
      "Recall Score: 1.0\n",
      "Precision Score: 0.9\n"
     ]
    }
   ],
   "source": [
    "# Calculate Accuracy, F1 Score, Recall, and Precision Scores\n",
    "print('Accuracy:', accuracy_score(test2['Type'], prediction2))\n",
    "print('F1 Score:', f1_score(test2['Type'], prediction2, average= 'binary'))\n",
    "print('Recall Score:', recall_score(test2['Type'], prediction2))\n",
    "print('Precision Score:', precision_score(test2['Type'], prediction2))"
   ]
  }
 ],
 "metadata": {
  "anaconda-cloud": {},
  "kernelspec": {
   "display_name": "Python [conda root]",
   "language": "python",
   "name": "conda-root-py"
  },
  "language_info": {
   "codemirror_mode": {
    "name": "ipython",
    "version": 3
   },
   "file_extension": ".py",
   "mimetype": "text/x-python",
   "name": "python",
   "nbconvert_exporter": "python",
   "pygments_lexer": "ipython3",
   "version": "3.5.2"
  },
  "nbpresent": {
   "slides": {
    "0bc38a54-03ed-40aa-81af-324941af917d": {
     "id": "0bc38a54-03ed-40aa-81af-324941af917d",
     "prev": "c6249145-2016-4e93-950c-723689ded31b",
     "regions": {
      "1b50eaa0-7714-4705-a590-af484347f1f8": {
       "attrs": {
        "height": 0.8,
        "width": 0.8,
        "x": 0.1,
        "y": 0.1
       },
       "content": {
        "cell": "9c0d1007-93ba-4d19-abc4-f83c25b40bea",
        "part": "whole"
       },
       "id": "1b50eaa0-7714-4705-a590-af484347f1f8"
      }
     }
    },
    "330ae6f4-a6f9-4841-a961-a33f6117f515": {
     "id": "330ae6f4-a6f9-4841-a961-a33f6117f515",
     "prev": "cfcc8123-0557-4fe6-b5a0-1c40480508a3",
     "regions": {
      "ffa1d07a-6b10-47e3-b769-bbe542a197c0": {
       "attrs": {
        "height": 0.8,
        "width": 0.8,
        "x": 0.1,
        "y": 0.1
       },
       "content": {
        "cell": "ceb578d2-4581-4b97-8460-2520b36fb971",
        "part": "whole"
       },
       "id": "ffa1d07a-6b10-47e3-b769-bbe542a197c0"
      }
     }
    },
    "4254f686-5608-4bbc-b36b-87ddb5132458": {
     "id": "4254f686-5608-4bbc-b36b-87ddb5132458",
     "prev": null,
     "regions": {
      "7656fc25-d09d-4594-b77c-a118fd3a71c6": {
       "attrs": {
        "height": 0.8,
        "width": 0.8,
        "x": 0.1,
        "y": 0.1
       },
       "content": {
        "cell": "14d2ae88-3fc9-47b6-8087-ccd2532a440f",
        "part": "whole"
       },
       "id": "7656fc25-d09d-4594-b77c-a118fd3a71c6"
      }
     }
    },
    "705fb166-ed1d-4ec5-924d-1c8959108ddc": {
     "id": "705fb166-ed1d-4ec5-924d-1c8959108ddc",
     "prev": "fbbdf185-00fe-4e9e-a2a1-47122f880670",
     "regions": {
      "49da0dc1-97ce-491e-8709-d843fc245c84": {
       "attrs": {
        "height": 0.8,
        "width": 0.8,
        "x": 0.1,
        "y": 0.1
       },
       "content": {
        "cell": "bebf5e8f-d7b3-4ee3-a5f2-f45575a7d823",
        "part": "whole"
       },
       "id": "49da0dc1-97ce-491e-8709-d843fc245c84"
      }
     }
    },
    "79541362-e29a-41ee-8614-8d69855b1e60": {
     "id": "79541362-e29a-41ee-8614-8d69855b1e60",
     "prev": "c892a388-6356-48e9-8e99-07d700dbca84",
     "regions": {
      "fff96d21-9297-4496-bdce-faa3771e3ce8": {
       "attrs": {
        "height": 0.8,
        "width": 0.8,
        "x": 0.1,
        "y": 0.1
       },
       "content": {
        "cell": "43430abe-f75a-40d1-b421-821ac6bec916",
        "part": "whole"
       },
       "id": "fff96d21-9297-4496-bdce-faa3771e3ce8"
      }
     }
    },
    "7fbab2af-22b8-45dc-ad32-ee37c3bd6f69": {
     "id": "7fbab2af-22b8-45dc-ad32-ee37c3bd6f69",
     "prev": "705fb166-ed1d-4ec5-924d-1c8959108ddc",
     "regions": {
      "40ea4a71-529a-459f-9f5b-00c1fe8d7eb3": {
       "attrs": {
        "height": 0.8,
        "width": 0.8,
        "x": 0.1,
        "y": 0.1
       },
       "content": {
        "cell": "9ad0d0ae-4752-4209-aeef-cf824c8aeb28",
        "part": "whole"
       },
       "id": "40ea4a71-529a-459f-9f5b-00c1fe8d7eb3"
      }
     }
    },
    "923726f0-2f48-41ef-bc20-3eb09ea7c910": {
     "id": "923726f0-2f48-41ef-bc20-3eb09ea7c910",
     "prev": "da012add-810a-491b-875b-8d772c59f2f3",
     "regions": {
      "424559d3-72be-4dfa-836e-39646f638054": {
       "attrs": {
        "height": 0.8,
        "width": 0.8,
        "x": 0.1,
        "y": 0.1
       },
       "content": {
        "cell": "eadc362d-05a8-4f8e-93e4-a806ba2debe9",
        "part": "whole"
       },
       "id": "424559d3-72be-4dfa-836e-39646f638054"
      }
     }
    },
    "9af4c75c-4dec-4c34-a228-47779abcec90": {
     "id": "9af4c75c-4dec-4c34-a228-47779abcec90",
     "prev": "330ae6f4-a6f9-4841-a961-a33f6117f515",
     "regions": {
      "7f4937e2-db47-46ff-b566-c140e8d1e1a5": {
       "attrs": {
        "height": 0.8,
        "width": 0.8,
        "x": 0.1,
        "y": 0.1
       },
       "content": {
        "cell": "62aabb9a-875f-472f-b3b9-226f6ab632ea",
        "part": "whole"
       },
       "id": "7f4937e2-db47-46ff-b566-c140e8d1e1a5"
      }
     }
    },
    "9c66342e-a63a-48a8-a422-1cefab0f666c": {
     "id": "9c66342e-a63a-48a8-a422-1cefab0f666c",
     "prev": "4254f686-5608-4bbc-b36b-87ddb5132458",
     "regions": {
      "7ff0b596-9c53-4164-9355-399247c18ab7": {
       "attrs": {
        "height": 0.8,
        "width": 0.8,
        "x": 0.1,
        "y": 0.1
       },
       "content": {
        "cell": "4b9da44d-6ee1-47f8-b0dc-291ea80b0db1",
        "part": "whole"
       },
       "id": "7ff0b596-9c53-4164-9355-399247c18ab7"
      }
     }
    },
    "a2f6bd24-b511-47db-9a89-377c5e35c1df": {
     "id": "a2f6bd24-b511-47db-9a89-377c5e35c1df",
     "prev": "abab6e47-ccb2-4587-99d0-b3de4ee1fecd",
     "regions": {
      "d3c5844a-1284-41c8-8ae7-a5987abebe61": {
       "attrs": {
        "height": 0.8,
        "width": 0.8,
        "x": 0.1,
        "y": 0.1
       },
       "content": {
        "cell": "2821bf1e-a2a1-43c3-9f33-fb80380b191f",
        "part": "whole"
       },
       "id": "d3c5844a-1284-41c8-8ae7-a5987abebe61"
      }
     }
    },
    "a316b496-db41-4cca-aaa7-9946c9e5798a": {
     "id": "a316b496-db41-4cca-aaa7-9946c9e5798a",
     "prev": "0bc38a54-03ed-40aa-81af-324941af917d",
     "regions": {
      "dd5b7d43-0170-4b1e-89ed-b3666f8a7829": {
       "attrs": {
        "height": 0.8,
        "width": 0.8,
        "x": 0.1,
        "y": 0.1
       },
       "content": {
        "cell": "127178c2-61f4-44e4-a2e2-57d0508c8fc1",
        "part": "whole"
       },
       "id": "dd5b7d43-0170-4b1e-89ed-b3666f8a7829"
      }
     }
    },
    "abab6e47-ccb2-4587-99d0-b3de4ee1fecd": {
     "id": "abab6e47-ccb2-4587-99d0-b3de4ee1fecd",
     "prev": "a316b496-db41-4cca-aaa7-9946c9e5798a",
     "regions": {
      "56f6970e-da38-4866-819b-73b24fe850ac": {
       "attrs": {
        "height": 0.8,
        "width": 0.8,
        "x": 0.1,
        "y": 0.1
       },
       "content": {
        "cell": "18d6293c-cf9c-42cd-93d2-5235faa147e7",
        "part": "whole"
       },
       "id": "56f6970e-da38-4866-819b-73b24fe850ac"
      }
     }
    },
    "af4280ec-f538-4812-bb5c-118de0de63fe": {
     "id": "af4280ec-f538-4812-bb5c-118de0de63fe",
     "prev": "c3cda57b-38f6-4115-8aa9-51524f95bf36",
     "regions": {
      "bd0d210f-d630-4ae4-a713-ce7ad735b585": {
       "attrs": {
        "height": 0.8,
        "width": 0.8,
        "x": 0.1,
        "y": 0.1
       },
       "content": {
        "cell": "48ff6f0c-6039-4bd0-9b7f-063f620bffb1",
        "part": "whole"
       },
       "id": "bd0d210f-d630-4ae4-a713-ce7ad735b585"
      }
     }
    },
    "b2f8fe74-bebe-400c-863d-071dc3cdffa7": {
     "id": "b2f8fe74-bebe-400c-863d-071dc3cdffa7",
     "prev": "af4280ec-f538-4812-bb5c-118de0de63fe",
     "regions": {
      "1c80203e-2e48-4271-b505-84af8a6c9e69": {
       "attrs": {
        "height": 0.8,
        "width": 0.8,
        "x": 0.1,
        "y": 0.1
       },
       "content": {
        "cell": "029cf6fe-2ce1-4ec0-b580-aaa5d76c23ea",
        "part": "whole"
       },
       "id": "1c80203e-2e48-4271-b505-84af8a6c9e69"
      }
     }
    },
    "c3cda57b-38f6-4115-8aa9-51524f95bf36": {
     "id": "c3cda57b-38f6-4115-8aa9-51524f95bf36",
     "prev": "7fbab2af-22b8-45dc-ad32-ee37c3bd6f69",
     "regions": {
      "bf39ec84-be23-495c-88d9-46ccddccd42b": {
       "attrs": {
        "height": 0.8,
        "width": 0.8,
        "x": 0.1,
        "y": 0.1
       },
       "content": {
        "cell": "b7569935-4c27-4971-ad22-f7a2daf74933",
        "part": "whole"
       },
       "id": "bf39ec84-be23-495c-88d9-46ccddccd42b"
      }
     }
    },
    "c6249145-2016-4e93-950c-723689ded31b": {
     "id": "c6249145-2016-4e93-950c-723689ded31b",
     "prev": "923726f0-2f48-41ef-bc20-3eb09ea7c910",
     "regions": {
      "a1b19eaa-8d40-4f08-88a0-2e7fda84fda4": {
       "attrs": {
        "height": 0.8,
        "width": 0.8,
        "x": 0.1,
        "y": 0.1
       },
       "content": {
        "cell": "8324276f-b1c0-4c8d-b433-120f8c953f33",
        "part": "whole"
       },
       "id": "a1b19eaa-8d40-4f08-88a0-2e7fda84fda4"
      }
     }
    },
    "c892a388-6356-48e9-8e99-07d700dbca84": {
     "id": "c892a388-6356-48e9-8e99-07d700dbca84",
     "prev": "fc183cdb-5c0b-4cd9-a5da-383dec6e09ba",
     "regions": {
      "1410c477-e55a-4d31-b950-68f6ca817542": {
       "attrs": {
        "height": 0.8,
        "width": 0.8,
        "x": 0.1,
        "y": 0.1
       },
       "content": {
        "cell": "e3a0f8ba-b33a-4ee7-8404-aae8533d1ea8",
        "part": "whole"
       },
       "id": "1410c477-e55a-4d31-b950-68f6ca817542"
      }
     }
    },
    "cfcc8123-0557-4fe6-b5a0-1c40480508a3": {
     "id": "cfcc8123-0557-4fe6-b5a0-1c40480508a3",
     "prev": "b2f8fe74-bebe-400c-863d-071dc3cdffa7",
     "regions": {
      "dd270a45-3831-48d5-8714-098861a5c696": {
       "attrs": {
        "height": 0.8,
        "width": 0.8,
        "x": 0.1,
        "y": 0.1
       },
       "content": {
        "cell": "61e37dc8-6b1d-4009-b09d-3bb151e1ebca",
        "part": "whole"
       },
       "id": "dd270a45-3831-48d5-8714-098861a5c696"
      }
     }
    },
    "da012add-810a-491b-875b-8d772c59f2f3": {
     "id": "da012add-810a-491b-875b-8d772c59f2f3",
     "prev": "9af4c75c-4dec-4c34-a228-47779abcec90",
     "regions": {
      "f9ce4729-4976-4d2d-8a98-923de7d86b61": {
       "attrs": {
        "height": 0.8,
        "width": 0.8,
        "x": 0.1,
        "y": 0.1
       },
       "content": {
        "cell": "2df8bca6-d7e9-4285-a5b8-fc878d1c7ab1",
        "part": "whole"
       },
       "id": "f9ce4729-4976-4d2d-8a98-923de7d86b61"
      }
     }
    },
    "fbbdf185-00fe-4e9e-a2a1-47122f880670": {
     "id": "fbbdf185-00fe-4e9e-a2a1-47122f880670",
     "prev": "9c66342e-a63a-48a8-a422-1cefab0f666c",
     "regions": {
      "2782b155-4b26-4613-b169-f92d092ad6e7": {
       "attrs": {
        "height": 0.8,
        "width": 0.8,
        "x": 0.1,
        "y": 0.1
       },
       "content": {
        "cell": "6a028963-4a9b-47e1-9c5e-89bba4cc8175",
        "part": "whole"
       },
       "id": "2782b155-4b26-4613-b169-f92d092ad6e7"
      }
     }
    },
    "fc183cdb-5c0b-4cd9-a5da-383dec6e09ba": {
     "id": "fc183cdb-5c0b-4cd9-a5da-383dec6e09ba",
     "prev": "a2f6bd24-b511-47db-9a89-377c5e35c1df",
     "regions": {
      "8bf87147-2503-46ff-9d0e-f27a56da6db9": {
       "attrs": {
        "height": 0.8,
        "width": 0.8,
        "x": 0.1,
        "y": 0.1
       },
       "content": {
        "cell": "94f06b1e-80c6-4de1-a1dd-db3e0970d61b",
        "part": "whole"
       },
       "id": "8bf87147-2503-46ff-9d0e-f27a56da6db9"
      }
     }
    }
   },
   "themes": {}
  }
 },
 "nbformat": 4,
 "nbformat_minor": 2
}
